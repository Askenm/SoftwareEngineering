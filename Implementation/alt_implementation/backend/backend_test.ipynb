{
 "cells": [
  {
   "cell_type": "code",
   "execution_count": 1,
   "metadata": {},
   "outputs": [],
   "source": [
    "from backend import *\n",
    "import pandas as pd"
   ]
  },
  {
   "cell_type": "markdown",
   "metadata": {},
   "source": [
    "## Battles"
   ]
  },
  {
   "cell_type": "code",
   "execution_count": 2,
   "metadata": {},
   "outputs": [
    {
     "name": "stdout",
     "output_type": "stream",
     "text": [
      "\n",
      "                                                 SELECT count(*) AS count FROM ckb.battles \n",
      "                                                 WHERE battle_name = 'dis_battle_mon 9'\n",
      "                                                 \n",
      "Battle Name Taken\n",
      "{'_BATTLE_NAME_': 'dis_battle_mon 9', '_BATTLE_DESC_': 'dis_battle_monnnnnn', '_BATTLE_REPO_': 'YADAYADA.git', '_BATTLE_CREATOR_': 1, '_END_DATE_': '2024-08-12'}\n",
      "None\n"
     ]
    }
   ],
   "source": [
    "# Create battle test\n",
    "example = {\"_BATTLE_NAME_\":\"dis_battle_mon 9\", \"_BATTLE_DESC_\": \"dis_battle_monnnnnn\", \"_BATTLE_REPO_\":\"YADAYADA.git\", \"_BATTLE_CREATOR_\":1,\"_END_DATE_\":\"2024-08-12\"}\n",
    "Battle_ = Battle()\n",
    "#Battle_.get_battle_page_info(1)\n",
    "print(Battle_.create_battle(example))\n",
    "\n",
    "print(Battle_.battle_data)\n",
    "\n",
    "\n",
    "print(Battle_.bid)"
   ]
  },
  {
   "cell_type": "code",
   "execution_count": 3,
   "metadata": {},
   "outputs": [
    {
     "name": "stdout",
     "output_type": "stream",
     "text": [
      "\n",
      "                                                 SELECT * FROM ckb.battles b\n",
      "                                                 WHERE b.bid = 1\n",
      "                                                 \n"
     ]
    },
    {
     "name": "stdout",
     "output_type": "stream",
     "text": [
      "\n",
      "                            SELECT is_educator FROM ckb.users WHERE uid = 3\n",
      "                            \n",
      "\n",
      "                            SELECT DISTINCT u.uid,g.gid,group_name \n",
      "                            FROM ckb.users u\n",
      "                            INNER JOIN ckb.groups g\n",
      "                            ON g.uid = u.uid\n",
      "                            INNER JOIN ckb.battles b\n",
      "                            ON g.bid = b.bid\n",
      "                            WHERE u.uid = 3\n",
      "                            AND\n",
      "                            b.bid = 1\n",
      "                            \n",
      "SELECT \n",
      "                                                 g.group_name,\n",
      "                                                 MAX(submission_score) as score, \n",
      "                                                 COUNT(DISTINCT smid) as num_submissions \n",
      "                                                 FROM ckb.battles b\n",
      "                                                 INNER JOIN ckb.groups g\n",
      "                                                 ON b.bid = g.bid\n",
      "                                                 INNER JOIN ckb.submissions s\n",
      "                                                 ON s.gid = g.gid\n",
      "\n",
      "                                                 WHERE b.bid = 1\n",
      "\n",
      "                                                 GROUP BY g.group_name\n",
      "                                                 ORDER BY score desc\n",
      "                                                 \n"
     ]
    }
   ],
   "source": [
    "Battle_ = Battle(1)\n",
    "Battle_.get_battle_page_info(3)"
   ]
  },
  {
   "cell_type": "code",
   "execution_count": 4,
   "metadata": {},
   "outputs": [
    {
     "data": {
      "text/plain": [
       "{'battle_name': 'Battle 1',\n",
       " 'battle_descriptions': 'Description for Battle 1',\n",
       " 'battle_repo': 'https://github.com/repo1',\n",
       " 'battle_rankings':   group_name  score  num_submissions\n",
       " 0    Group 1   95.5                1,\n",
       " 'submissions': 'User is not paticipating'}"
      ]
     },
     "execution_count": 4,
     "metadata": {},
     "output_type": "execute_result"
    }
   ],
   "source": [
    "Battle_.battle_data"
   ]
  },
  {
   "cell_type": "markdown",
   "metadata": {},
   "source": [
    "## Tournaments"
   ]
  },
  {
   "cell_type": "code",
   "execution_count": 2,
   "metadata": {},
   "outputs": [
    {
     "name": "stdout",
     "output_type": "stream",
     "text": [
      "None\n",
      "CREATING\n",
      "dict_keys(['GET_BATTLE_RANKINGS', 'GET_BATTLE_PAGE_INFO', 'BATTLE_NAME_VACANT', 'TOURNAMENT_NAME_VACANT', 'GET_TOURNAMENT_RANKINGS', 'GET_TOURNAMENT_PAGE_INFO', 'GET_RELATED_BATTLES', 'IS_EDUCATOR', 'GET_USER_GROUP', 'GET_SUBMISSIONS', 'GET_TOURNAMENT_BADGES'])\n",
      "\n",
      "                                                 SELECT count(*) AS count FROM ckb.tournaments \n",
      "                                                 WHERE tournament_name = 'dis_tourney 8'\n",
      "                                                 \n",
      "ENDING\n",
      "Specify a TournamentID\n"
     ]
    }
   ],
   "source": [
    "example = {\"_TOURNAMENT_NAME_\": \"dis_tourney 8\", \"_TOURNAMENT_CREATOR_\": 1}\n",
    "Tournament_ = Tournament()\n",
    "\n",
    "print(Tournament_.tid)\n",
    "\n",
    "print(\"CREATING\")\n",
    "Tournament_.create_tournament(example)\n",
    "\n",
    "print(\"ENDING\")\n",
    "Tournament_.end_tournament()\n",
    "\n",
    "\n",
    "\n",
    "\n"
   ]
  },
  {
   "cell_type": "code",
   "execution_count": 3,
   "metadata": {},
   "outputs": [
    {
     "name": "stdout",
     "output_type": "stream",
     "text": [
      "GETTING\n",
      "dict_keys(['GET_BATTLE_RANKINGS', 'GET_BATTLE_PAGE_INFO', 'BATTLE_NAME_VACANT', 'TOURNAMENT_NAME_VACANT', 'GET_TOURNAMENT_RANKINGS', 'GET_TOURNAMENT_PAGE_INFO', 'GET_RELATED_BATTLES', 'IS_EDUCATOR', 'GET_USER_GROUP', 'GET_SUBMISSIONS', 'GET_TOURNAMENT_BADGES'])\n",
      "\n",
      "                                                 SELECT tournament_name FROM ckb.tournaments t\n",
      "                                                 WHERE t.tid = 1\n",
      "                                                 \n",
      "dict_keys(['GET_BATTLE_RANKINGS', 'GET_BATTLE_PAGE_INFO', 'BATTLE_NAME_VACANT', 'TOURNAMENT_NAME_VACANT', 'GET_TOURNAMENT_RANKINGS', 'GET_TOURNAMENT_PAGE_INFO', 'GET_RELATED_BATTLES', 'IS_EDUCATOR', 'GET_USER_GROUP', 'GET_SUBMISSIONS', 'GET_TOURNAMENT_BADGES'])\n",
      "\n",
      "                                                 SELECT b.battle_name,\n",
      "                                                 CASE WHEN b.end_date < NOW()::DATE\n",
      "                                                 THEN 'Ended'\n",
      "                                                 ELSE 'Ongoing'\n",
      "                                                 END\n",
      "                                                 as battle_status,\n",
      "                                                 b.create_date,\n",
      "                                                 b.end_date\n",
      "                                                 FROM ckb.battles b\n",
      "                                                 INNER JOIN \n",
      "                                                 ckb.tournaments t\n",
      "                                                 ON b.tournament_id = t.tid\n",
      "                                                 \n",
      "                                                 \n",
      "                                                 WHERE t.tid = 1\n",
      "                                                 \n",
      "                                                 ORDER BY b.end_date desc\n",
      "                                                 \n",
      "                                                 \n",
      "dict_keys(['GET_BATTLE_RANKINGS', 'GET_BATTLE_PAGE_INFO', 'BATTLE_NAME_VACANT', 'TOURNAMENT_NAME_VACANT', 'GET_TOURNAMENT_RANKINGS', 'GET_TOURNAMENT_PAGE_INFO', 'GET_RELATED_BATTLES', 'IS_EDUCATOR', 'GET_USER_GROUP', 'GET_SUBMISSIONS', 'GET_TOURNAMENT_BADGES'])\n",
      "SELECT \n",
      "                                                 u.user_name,\n",
      "                                                 BattleQuery.score,\n",
      "                                                 COUNT(distinct BattleQuery.bid) as num_battles\n",
      "\n",
      "                                                 FROM ckb.tournaments t\n",
      "                                                 INNER JOIN \n",
      "                                                 (SELECT b.bid,\n",
      "                                                               g.uid,\n",
      "                                                 MAX(submission_score) as score\n",
      "                                                 FROM ckb.battles b\n",
      "                                                 INNER JOIN ckb.groups g\n",
      "                                                 ON b.bid = g.bid\n",
      "                                                 INNER JOIN ckb.submissions s\n",
      "                                                 ON s.gid = g.gid\n",
      "\n",
      "                                                 GROUP BY b.bid,g.uid\n",
      "                                                 ) as BattleQuery\n",
      "\n",
      "                                                 ON t.tid = BattleQuery.bid\n",
      "                                                 INNER JOIN ckb.users u\n",
      "                                                 on u.uid = BattleQuery.uid\n",
      "\n",
      "                                                 WHERE t.tid = 1 \n",
      "\n",
      "                                                 GROUP BY u.user_name,BattleQuery.score\n",
      "                                                 ORDER BY BattleQuery.score desc\n",
      "                                                 \n",
      "dict_keys(['GET_BATTLE_RANKINGS', 'GET_BATTLE_PAGE_INFO', 'BATTLE_NAME_VACANT', 'TOURNAMENT_NAME_VACANT', 'GET_TOURNAMENT_RANKINGS', 'GET_TOURNAMENT_PAGE_INFO', 'GET_RELATED_BATTLES', 'IS_EDUCATOR', 'GET_USER_GROUP', 'GET_SUBMISSIONS', 'GET_TOURNAMENT_BADGES'])\n",
      "\n",
      "                                   SELECT badge_name,badge_description\n",
      "                                   FROM ckb.badge b\n",
      "                                   WHERE tournament_id = 1\n",
      "                                   \n",
      "{'tournament_name': 'Tournament 1', 'related_battles':         battle_name battle_status create_date    end_date\n",
      "0          Battle 1       Ongoing  2024-01-22        None\n",
      "1  dis_battle_mon 2       Ongoing  2024-01-23  2024-08-12\n",
      "2  dis_battle_mon 3       Ongoing  2024-01-23  2024-08-12\n",
      "3  dis_battle_mon 4       Ongoing  2024-01-23  2024-08-12\n",
      "4  dis_battle_mon 9       Ongoing  2024-01-23  2024-08-12, 'tournament_rankings':   user_name  score  num_battles\n",
      "0  John Doe   95.5            1, 'badges':   badge_name        badge_description\n",
      "0    Badge 1  Description for Badge 1\n",
      "1    Badge 4  Description for Badge 4}\n"
     ]
    }
   ],
   "source": [
    "example = {\"_TOURNAMENT_NAME_\": \"dis_tourney 12\", \"_TOURNAMENT_CREATOR_\": 1}\n",
    "Tournament_ = Tournament(1)\n",
    "\n",
    "print(\"GETTING\")\n",
    "Tournament_.get_tournament_page_info()\n",
    "\n",
    "print(Tournament_.tournament_data)"
   ]
  },
  {
   "cell_type": "markdown",
   "metadata": {},
   "source": [
    "## NOTIFICATIONS"
   ]
  },
  {
   "cell_type": "code",
   "execution_count": 2,
   "metadata": {},
   "outputs": [],
   "source": [
    "notification_info = {'UID1':{\"_BADGE_NAME_\":\"BADGE1\",\n",
    "                             '_USERNAME_':\"user1\",\n",
    "                             '_TOURNAMENTNAME_':\"tournament 1\",\n",
    "                             '_TOURNAMENT_ID_': 1,\n",
    "                             '_BADGEACHIEVED_DATE_':\"1996-08-12\"}\n",
    "                             }"
   ]
  },
  {
   "cell_type": "code",
   "execution_count": 3,
   "metadata": {},
   "outputs": [],
   "source": [
    "BadgeNotification = Notification('BADGE_ACHIEVED')"
   ]
  },
  {
   "cell_type": "code",
   "execution_count": null,
   "metadata": {},
   "outputs": [],
   "source": [
    "BadgeNotification.register_notfications_to_messageboard(notification_info)"
   ]
  }
 ],
 "metadata": {
  "kernelspec": {
   "display_name": "Python 3",
   "language": "python",
   "name": "python3"
  },
  "language_info": {
   "codemirror_mode": {
    "name": "ipython",
    "version": 3
   },
   "file_extension": ".py",
   "mimetype": "text/x-python",
   "name": "python",
   "nbconvert_exporter": "python",
   "pygments_lexer": "ipython3",
   "version": "3.9.6"
  }
 },
 "nbformat": 4,
 "nbformat_minor": 2
}
