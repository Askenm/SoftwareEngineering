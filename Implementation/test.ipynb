{
 "cells": [
  {
   "cell_type": "code",
   "execution_count": 1,
   "metadata": {},
   "outputs": [],
   "source": [
    "from backend.handlers import BadgeHandler\n",
    "from backend.handlers import NotificationHandler"
   ]
  },
  {
   "cell_type": "code",
   "execution_count": 2,
   "metadata": {},
   "outputs": [],
   "source": [
    "BH = BadgeHandler()"
   ]
  },
  {
   "cell_type": "code",
   "execution_count": 4,
   "metadata": {},
   "outputs": [
    {
     "name": "stderr",
     "output_type": "stream",
     "text": [
      "  0%|          | 0/7 [00:00<?, ?it/s]"
     ]
    },
    {
     "name": "stdout",
     "output_type": "stream",
     "text": [
      "2\n"
     ]
    },
    {
     "name": "stderr",
     "output_type": "stream",
     "text": [
      " 14%|█▍        | 1/7 [00:00<00:03,  1.87it/s]"
     ]
    },
    {
     "name": "stdout",
     "output_type": "stream",
     "text": [
      "3\n"
     ]
    },
    {
     "name": "stderr",
     "output_type": "stream",
     "text": [
      " 29%|██▊       | 2/7 [00:01<00:02,  1.93it/s]"
     ]
    },
    {
     "name": "stdout",
     "output_type": "stream",
     "text": [
      "4\n"
     ]
    },
    {
     "name": "stderr",
     "output_type": "stream",
     "text": [
      " 43%|████▎     | 3/7 [00:01<00:02,  1.87it/s]"
     ]
    },
    {
     "name": "stdout",
     "output_type": "stream",
     "text": [
      "5\n"
     ]
    },
    {
     "name": "stderr",
     "output_type": "stream",
     "text": [
      " 57%|█████▋    | 4/7 [00:02<00:01,  1.92it/s]"
     ]
    },
    {
     "name": "stdout",
     "output_type": "stream",
     "text": [
      "6\n"
     ]
    },
    {
     "name": "stderr",
     "output_type": "stream",
     "text": [
      " 71%|███████▏  | 5/7 [00:02<00:01,  1.65it/s]"
     ]
    },
    {
     "name": "stdout",
     "output_type": "stream",
     "text": [
      "12\n",
      "15\n",
      "query='\\n                            INSERT INTO ckb.badgeholders (bid, uid)\\n                            VALUES \\n                            (12, 15)\\n                            '\n",
      "query=\"\\n                                   INSERT INTO ckb.message_board (uid, notification_type, tournament_id, notification_text, battle_id)\\n                                   VALUES\\n                                   (15, 'BADGE_ACHIEVED', 19, '\\n                                            Congrats leoStudent!\\n\\n                                            You have been awarded the badge leos badge for your outstanding\\n                                            performance in leos tournament on the 2024-02-09!\\n                                            YOU RULE!\\n\\n                                            Keep up the great work!\\n                                            The CodeKataBattles Team\\n                                            ', NULL)\\n                                   \"\n"
     ]
    },
    {
     "name": "stderr",
     "output_type": "stream",
     "text": [
      " 86%|████████▌ | 6/7 [00:04<00:01,  1.11s/it]"
     ]
    },
    {
     "name": "stdout",
     "output_type": "stream",
     "text": [
      "13\n"
     ]
    },
    {
     "name": "stderr",
     "output_type": "stream",
     "text": [
      "100%|██████████| 7/7 [00:05<00:00,  1.28it/s]\n"
     ]
    }
   ],
   "source": [
    "BH.check_for_badges()"
   ]
  },
  {
   "cell_type": "code",
   "execution_count": 6,
   "metadata": {},
   "outputs": [
    {
     "data": {
      "text/plain": [
       "{'_TOURNAMENT_ID_': 19, '_RANK_': 1, '_NUM_BATTLES_': 1}"
      ]
     },
     "execution_count": 6,
     "metadata": {},
     "output_type": "execute_result"
    }
   ],
   "source": [
    "from backend.DataPersitenceService import DBMS\n",
    "DBMS_ = DBMS()\n",
    "badge_logic_df = DBMS_.read(\"GET_BADGE_LOGIC\", {\"_BADGE_ID_\": '12'})\n",
    "\n",
    "\n",
    "badge_logic = {\n",
    "            \"_TOURNAMENT_ID_\": badge_logic_df[\"tournament_id\"].values[0],\n",
    "            \"_RANK_\": badge_logic_df[\"rank\"].values[0],\n",
    "            \"_NUM_BATTLES_\": badge_logic_df[\"num_battles\"].values[0],\n",
    "        }\n",
    "\n",
    "\n",
    "badge_logic"
   ]
  },
  {
   "cell_type": "code",
   "execution_count": 8,
   "metadata": {},
   "outputs": [
    {
     "data": {
      "text/plain": [
       "array([15])"
      ]
     },
     "execution_count": 8,
     "metadata": {},
     "output_type": "execute_result"
    }
   ],
   "source": [
    "badge_achievers = DBMS_.read(\"GET_BADGE_ACHIEVERS\", badge_logic)[\n",
    "            \"uid\"\n",
    "        ].values\n",
    "\n",
    "badge_achievers"
   ]
  },
  {
   "cell_type": "code",
   "execution_count": 11,
   "metadata": {},
   "outputs": [
    {
     "data": {
      "text/plain": [
       "array([], dtype=object)"
      ]
     },
     "execution_count": 11,
     "metadata": {},
     "output_type": "execute_result"
    }
   ],
   "source": [
    "existing_badge_achievers = DBMS_.read(\n",
    "            \"GET_CURRENT_BADGE_HOLDERS\", {\"_BADGE_ID_\": 12}\n",
    "        )[\"uid\"].values\n",
    "\n",
    "existing_badge_achievers"
   ]
  },
  {
   "cell_type": "code",
   "execution_count": 12,
   "metadata": {},
   "outputs": [
    {
     "data": {
      "text/plain": [
       "{15}"
      ]
     },
     "execution_count": 12,
     "metadata": {},
     "output_type": "execute_result"
    }
   ],
   "source": [
    "new_awardees = set(badge_achievers) - set(existing_badge_achievers)\n",
    "new_awardees"
   ]
  },
  {
   "cell_type": "code",
   "execution_count": null,
   "metadata": {},
   "outputs": [],
   "source": []
  },
  {
   "cell_type": "code",
   "execution_count": null,
   "metadata": {},
   "outputs": [],
   "source": []
  }
 ],
 "metadata": {
  "kernelspec": {
   "display_name": "Python 3",
   "language": "python",
   "name": "python3"
  },
  "language_info": {
   "codemirror_mode": {
    "name": "ipython",
    "version": 3
   },
   "file_extension": ".py",
   "mimetype": "text/x-python",
   "name": "python",
   "nbconvert_exporter": "python",
   "pygments_lexer": "ipython3",
   "version": "3.9.6"
  }
 },
 "nbformat": 4,
 "nbformat_minor": 2
}
