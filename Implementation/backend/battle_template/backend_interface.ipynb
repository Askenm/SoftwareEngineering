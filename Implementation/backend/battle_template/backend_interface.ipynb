{
 "cells": [
  {
   "cell_type": "markdown",
   "metadata": {},
   "source": [
    "# Backend Interface Tests\n"
   ]
  },
  {
   "cell_type": "code",
   "execution_count": 1,
   "metadata": {},
   "outputs": [
    {
     "name": "stdout",
     "output_type": "stream",
     "text": [
      "{'user_tournaments': Empty DataFrame\n",
      "Columns: [tournament_name]\n",
      "Index: [], 'user_battles':                 battle_name          group_name    end_date\n",
      "0    Image Analysis Level 1  BansheeOfInisherin  2024-01-23\n",
      "1    Image Analysis Level 1  BansheeOfInisherin  2024-01-23\n",
      "2    Image Analysis Level 1  BansheeOfInisherin  2024-01-23\n",
      "3    Image Analysis Level 2  BansheeOfInisherin  2024-01-23\n",
      "4    Image Analysis Level 3  BansheeOfInisherin  2024-01-23\n",
      "5    Image Analysis Level 4  BansheeOfInisherin  2024-01-23\n",
      "6    Image Analysis Level 5  BansheeOfInisherin  2024-01-23\n",
      "7    Image Analysis Level 6  BansheeOfInisherin  2024-01-23\n",
      "8    Image Analysis Level 7  BansheeOfInisherin  2024-01-23\n",
      "9    Image Analysis Level 8  BansheeOfInisherin  2024-01-23\n",
      "10   Image Analysis Level 9  BansheeOfInisherin  2024-01-23\n",
      "11  Image Analysis Level 10  BansheeOfInisherin  2024-01-23, 'user_badges':   badge_name          tournament_name             badge_achieved\n",
      "0  DOMINATOR  Advanced Image Analysis 2024-01-25 08:20:08.603267}\n"
     ]
    }
   ],
   "source": [
    "from backend import *\n",
    "my_user_id = 5\n",
    "my_user = Student(5)\n",
    "my_user.get_student_page()\n",
    "# TODO GET STUDENT NAME\n",
    "print(my_user.user_information)"
   ]
  },
  {
   "cell_type": "markdown",
   "metadata": {},
   "source": [
    "## Create Tournament"
   ]
  },
  {
   "cell_type": "code",
   "execution_count": 2,
   "metadata": {},
   "outputs": [
    {
     "data": {
      "text/plain": [
       "'Tournament Name Taken'"
      ]
     },
     "execution_count": 2,
     "metadata": {},
     "output_type": "execute_result"
    }
   ],
   "source": [
    "T_image_analysis = Tournament()\n",
    "tournament_data = {'_TOURNAMENT_NAME_':'Advanced Image Analysis',\n",
    "                   '_CREATOR_':2}\n",
    "T_image_analysis.create_tournament(tournament_data=tournament_data)"
   ]
  },
  {
   "cell_type": "code",
   "execution_count": 2,
   "metadata": {},
   "outputs": [],
   "source": [
    "T_image_analysis = Tournament(12)\n",
    "T_image_analysis.get_tournament_page_info()"
   ]
  },
  {
   "cell_type": "markdown",
   "metadata": {},
   "source": [
    "## Create Badge"
   ]
  },
  {
   "cell_type": "code",
   "execution_count": 5,
   "metadata": {},
   "outputs": [],
   "source": [
    "badge_logic = {\n",
    "            '_BADGE_NAME_': 'DOMINATOR',\n",
    "            '_BADGE_DESC_': '''You get this badge for completely trashing the competition. \n",
    "                               You place No 1 in 5 battles in the tournament''',\n",
    "            '_RANK_': 1,\n",
    "            '_NUM_BATTLES_': 5\n",
    "        }\n",
    "T_image_analysis.create_badge(badge_logic)"
   ]
  },
  {
   "cell_type": "markdown",
   "metadata": {},
   "source": [
    "## Create Battle\n",
    "**(CURRENTLY MISSING THE ENTIRE FILE AND GITHUB FUNCTIONALITY)**\n",
    "\n",
    "**TEST ONLY CHECKS THE DATABASE AND NOTIFICATION FUNCTIONALITY**"
   ]
  },
  {
   "cell_type": "code",
   "execution_count": 5,
   "metadata": {},
   "outputs": [],
   "source": [
    "for i in range(1,11):\n",
    "    battle_data = {'_BATTLE_NAME_': f'Image Analysis Level {i}',\n",
    "                    '_BATTLE_DESC_': 'HIYA DIS AN IMAGE ANALYSIS BATTLE',\n",
    "                    '_BATTLE_REPO_': 'URL of the associated GitHub repository',\n",
    "                    '_END_DATE_': '2024-01-23'\n",
    "                    }\n",
    "    T_image_analysis.create_battle(battle_data=battle_data)"
   ]
  },
  {
   "cell_type": "markdown",
   "metadata": {},
   "source": [
    "## See Front Page"
   ]
  },
  {
   "cell_type": "code",
   "execution_count": 9,
   "metadata": {},
   "outputs": [],
   "source": [
    "AskeMeineche = Student(5)\n",
    "AskeMeineche.get_student_page()\n"
   ]
  },
  {
   "cell_type": "code",
   "execution_count": 10,
   "metadata": {},
   "outputs": [
    {
     "name": "stdout",
     "output_type": "stream",
     "text": [
      "Empty DataFrame\n",
      "Columns: [tournament_name]\n",
      "Index: []\n"
     ]
    }
   ],
   "source": [
    "print(AskeMeineche.user_information['user_tournaments'])"
   ]
  },
  {
   "cell_type": "code",
   "execution_count": 11,
   "metadata": {},
   "outputs": [
    {
     "name": "stdout",
     "output_type": "stream",
     "text": [
      "                battle_name          group_name    end_date\n",
      "0    Image Analysis Level 1  BansheeOfInisherin  2024-01-23\n",
      "1    Image Analysis Level 1  BansheeOfInisherin  2024-01-23\n",
      "2    Image Analysis Level 1  BansheeOfInisherin  2024-01-23\n",
      "3    Image Analysis Level 2  BansheeOfInisherin  2024-01-23\n",
      "4    Image Analysis Level 3  BansheeOfInisherin  2024-01-23\n",
      "5    Image Analysis Level 4  BansheeOfInisherin  2024-01-23\n",
      "6    Image Analysis Level 5  BansheeOfInisherin  2024-01-23\n",
      "7    Image Analysis Level 6  BansheeOfInisherin  2024-01-23\n",
      "8    Image Analysis Level 7  BansheeOfInisherin  2024-01-23\n",
      "9    Image Analysis Level 8  BansheeOfInisherin  2024-01-23\n",
      "10   Image Analysis Level 9  BansheeOfInisherin  2024-01-23\n",
      "11  Image Analysis Level 10  BansheeOfInisherin  2024-01-23\n"
     ]
    }
   ],
   "source": [
    "print(AskeMeineche.user_information['user_battles'])"
   ]
  },
  {
   "cell_type": "code",
   "execution_count": 13,
   "metadata": {},
   "outputs": [
    {
     "name": "stdout",
     "output_type": "stream",
     "text": [
      "  badge_name          tournament_name             badge_achieved\n",
      "0  DOMINATOR  Advanced Image Analysis 2024-01-25 08:20:08.603267\n"
     ]
    }
   ],
   "source": [
    "print(AskeMeineche.user_information['user_badges'])"
   ]
  },
  {
   "cell_type": "markdown",
   "metadata": {},
   "source": [
    "## Subscribe to Tournament"
   ]
  },
  {
   "cell_type": "code",
   "execution_count": 4,
   "metadata": {},
   "outputs": [
    {
     "name": "stdout",
     "output_type": "stream",
     "text": [
      "Advanced Image Analysis\n",
      "{'user_tournaments':            tournament_name\n",
      "0  Advanced Image Analysis, 'user_battles':                 battle_name          group_name    end_date\n",
      "0    Image Analysis Level 1  BansheeOfInisherin  2024-01-23\n",
      "1    Image Analysis Level 1  BansheeOfInisherin  2024-01-23\n",
      "2    Image Analysis Level 1  BansheeOfInisherin  2024-01-23\n",
      "3    Image Analysis Level 2  BansheeOfInisherin  2024-01-23\n",
      "4    Image Analysis Level 3  BansheeOfInisherin  2024-01-23\n",
      "5    Image Analysis Level 4  BansheeOfInisherin  2024-01-23\n",
      "6    Image Analysis Level 5  BansheeOfInisherin  2024-01-23\n",
      "7    Image Analysis Level 6  BansheeOfInisherin  2024-01-23\n",
      "8    Image Analysis Level 7  BansheeOfInisherin  2024-01-23\n",
      "9    Image Analysis Level 8  BansheeOfInisherin  2024-01-23\n",
      "10   Image Analysis Level 9  BansheeOfInisherin  2024-01-23\n",
      "11  Image Analysis Level 10  BansheeOfInisherin  2024-01-23, 'user_badges':   badge_name          tournament_name             badge_achieved\n",
      "0  DOMINATOR  Advanced Image Analysis 2024-01-25 08:20:08.603267}\n"
     ]
    }
   ],
   "source": [
    "AIA = Tournament(12)\n",
    "AIA.get_tournament_page_info()\n",
    "print(AIA.tournament_data['tournament_name'])\n",
    "try:\n",
    "    AIA.subscribe(my_user_id)\n",
    "except:pass\n",
    "my_user.get_student_page()\n",
    "print(my_user.user_information)"
   ]
  },
  {
   "cell_type": "code",
   "execution_count": null,
   "metadata": {},
   "outputs": [],
   "source": []
  },
  {
   "cell_type": "markdown",
   "metadata": {},
   "source": [
    "## Join Battle\n",
    "### Group Creation"
   ]
  },
  {
   "cell_type": "code",
   "execution_count": 3,
   "metadata": {},
   "outputs": [],
   "source": [
    "IA1 = Battle(20)\n",
    "group_ids = [5]\n",
    "IA1.join(group_ids,\"BansheeOfInisherin\")"
   ]
  },
  {
   "cell_type": "code",
   "execution_count": 4,
   "metadata": {},
   "outputs": [],
   "source": [
    "IA2 = Battle(21)\n",
    "group_ids = [5]\n",
    "IA2.join(group_ids,\"BansheeOfInisherin\")"
   ]
  },
  {
   "cell_type": "code",
   "execution_count": 5,
   "metadata": {},
   "outputs": [],
   "source": [
    "for i in range(22,30):\n",
    "    IA_n = Battle(i)\n",
    "    group_ids = [5]\n",
    "    IA_n.join(group_ids,\"BansheeOfInisherin\")"
   ]
  },
  {
   "cell_type": "markdown",
   "metadata": {},
   "source": [
    "## Manually Score Submission"
   ]
  },
  {
   "cell_type": "markdown",
   "metadata": {},
   "source": []
  }
 ],
 "metadata": {
  "kernelspec": {
   "display_name": "Python 3",
   "language": "python",
   "name": "python3"
  },
  "language_info": {
   "codemirror_mode": {
    "name": "ipython",
    "version": 3
   },
   "file_extension": ".py",
   "mimetype": "text/x-python",
   "name": "python",
   "nbconvert_exporter": "python",
   "pygments_lexer": "ipython3",
   "version": "3.9.6"
  }
 },
 "nbformat": 4,
 "nbformat_minor": 2
}
